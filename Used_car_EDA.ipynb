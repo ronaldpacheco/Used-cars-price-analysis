{
 "cells": [
  {
   "cell_type": "markdown",
   "metadata": {},
   "source": [
    "# Questions:\n",
    " - Which brand holds the most value vs mileage?\n",
    " - Which brand depreciates the most in the first 5 years?\n",
    " - Price difference per state.\n",
    " - Which car brands should you go for to get the best value?"
   ]
  },
  {
   "cell_type": "code",
   "execution_count": 1,
   "metadata": {},
   "outputs": [],
   "source": [
    "import numpy as np\n",
    "import pandas as pd\n",
    "import matplotlib.pyplot as plt\n",
    "import seaborn as sns\n",
    "import re\n",
    "plt.style.use('ggplot')\n",
    "sns.set_palette(palette='Set1')\n",
    "sns.set_style(\"darkgrid\")"
   ]
  },
  {
   "cell_type": "code",
   "execution_count": 2,
   "metadata": {},
   "outputs": [],
   "source": [
    "cars = pd.read_csv('Data/vehicles.csv')"
   ]
  },
  {
   "cell_type": "code",
   "execution_count": 3,
   "metadata": {},
   "outputs": [
    {
     "data": {
      "text/html": [
       "<div>\n",
       "<style scoped>\n",
       "    .dataframe tbody tr th:only-of-type {\n",
       "        vertical-align: middle;\n",
       "    }\n",
       "\n",
       "    .dataframe tbody tr th {\n",
       "        vertical-align: top;\n",
       "    }\n",
       "\n",
       "    .dataframe thead th {\n",
       "        text-align: right;\n",
       "    }\n",
       "</style>\n",
       "<table border=\"1\" class=\"dataframe\">\n",
       "  <thead>\n",
       "    <tr style=\"text-align: right;\">\n",
       "      <th></th>\n",
       "      <th>0</th>\n",
       "      <th>1</th>\n",
       "      <th>2</th>\n",
       "      <th>3</th>\n",
       "      <th>4</th>\n",
       "    </tr>\n",
       "  </thead>\n",
       "  <tbody>\n",
       "    <tr>\n",
       "      <th>Unnamed: 0</th>\n",
       "      <td>0</td>\n",
       "      <td>1</td>\n",
       "      <td>2</td>\n",
       "      <td>3</td>\n",
       "      <td>4</td>\n",
       "    </tr>\n",
       "    <tr>\n",
       "      <th>id</th>\n",
       "      <td>7240372487</td>\n",
       "      <td>7240309422</td>\n",
       "      <td>7240224296</td>\n",
       "      <td>7240103965</td>\n",
       "      <td>7239983776</td>\n",
       "    </tr>\n",
       "    <tr>\n",
       "      <th>url</th>\n",
       "      <td>https://auburn.craigslist.org/ctd/d/auburn-uni...</td>\n",
       "      <td>https://auburn.craigslist.org/cto/d/auburn-201...</td>\n",
       "      <td>https://auburn.craigslist.org/cto/d/auburn-200...</td>\n",
       "      <td>https://auburn.craigslist.org/cto/d/lanett-tru...</td>\n",
       "      <td>https://auburn.craigslist.org/cto/d/auburn-200...</td>\n",
       "    </tr>\n",
       "    <tr>\n",
       "      <th>region</th>\n",
       "      <td>auburn</td>\n",
       "      <td>auburn</td>\n",
       "      <td>auburn</td>\n",
       "      <td>auburn</td>\n",
       "      <td>auburn</td>\n",
       "    </tr>\n",
       "    <tr>\n",
       "      <th>region_url</th>\n",
       "      <td>https://auburn.craigslist.org</td>\n",
       "      <td>https://auburn.craigslist.org</td>\n",
       "      <td>https://auburn.craigslist.org</td>\n",
       "      <td>https://auburn.craigslist.org</td>\n",
       "      <td>https://auburn.craigslist.org</td>\n",
       "    </tr>\n",
       "    <tr>\n",
       "      <th>price</th>\n",
       "      <td>35990</td>\n",
       "      <td>7500</td>\n",
       "      <td>4900</td>\n",
       "      <td>2000</td>\n",
       "      <td>19500</td>\n",
       "    </tr>\n",
       "    <tr>\n",
       "      <th>year</th>\n",
       "      <td>2010</td>\n",
       "      <td>2014</td>\n",
       "      <td>2006</td>\n",
       "      <td>1974</td>\n",
       "      <td>2005</td>\n",
       "    </tr>\n",
       "    <tr>\n",
       "      <th>manufacturer</th>\n",
       "      <td>chevrolet</td>\n",
       "      <td>hyundai</td>\n",
       "      <td>bmw</td>\n",
       "      <td>chevrolet</td>\n",
       "      <td>ford</td>\n",
       "    </tr>\n",
       "    <tr>\n",
       "      <th>model</th>\n",
       "      <td>corvette grand sport</td>\n",
       "      <td>sonata</td>\n",
       "      <td>x3 3.0i</td>\n",
       "      <td>c-10</td>\n",
       "      <td>f350 lariat</td>\n",
       "    </tr>\n",
       "    <tr>\n",
       "      <th>condition</th>\n",
       "      <td>good</td>\n",
       "      <td>excellent</td>\n",
       "      <td>good</td>\n",
       "      <td>good</td>\n",
       "      <td>excellent</td>\n",
       "    </tr>\n",
       "    <tr>\n",
       "      <th>cylinders</th>\n",
       "      <td>8 cylinders</td>\n",
       "      <td>4 cylinders</td>\n",
       "      <td>6 cylinders</td>\n",
       "      <td>4 cylinders</td>\n",
       "      <td>8 cylinders</td>\n",
       "    </tr>\n",
       "    <tr>\n",
       "      <th>fuel</th>\n",
       "      <td>gas</td>\n",
       "      <td>gas</td>\n",
       "      <td>gas</td>\n",
       "      <td>gas</td>\n",
       "      <td>diesel</td>\n",
       "    </tr>\n",
       "    <tr>\n",
       "      <th>odometer</th>\n",
       "      <td>32742</td>\n",
       "      <td>93600</td>\n",
       "      <td>87046</td>\n",
       "      <td>190000</td>\n",
       "      <td>116000</td>\n",
       "    </tr>\n",
       "    <tr>\n",
       "      <th>title_status</th>\n",
       "      <td>clean</td>\n",
       "      <td>clean</td>\n",
       "      <td>clean</td>\n",
       "      <td>clean</td>\n",
       "      <td>lien</td>\n",
       "    </tr>\n",
       "    <tr>\n",
       "      <th>transmission</th>\n",
       "      <td>other</td>\n",
       "      <td>automatic</td>\n",
       "      <td>automatic</td>\n",
       "      <td>automatic</td>\n",
       "      <td>automatic</td>\n",
       "    </tr>\n",
       "    <tr>\n",
       "      <th>VIN</th>\n",
       "      <td>1G1YU3DW1A5106980</td>\n",
       "      <td>5NPEC4AB0EH813529</td>\n",
       "      <td>NaN</td>\n",
       "      <td>NaN</td>\n",
       "      <td>NaN</td>\n",
       "    </tr>\n",
       "    <tr>\n",
       "      <th>drive</th>\n",
       "      <td>rwd</td>\n",
       "      <td>fwd</td>\n",
       "      <td>NaN</td>\n",
       "      <td>rwd</td>\n",
       "      <td>4wd</td>\n",
       "    </tr>\n",
       "    <tr>\n",
       "      <th>size</th>\n",
       "      <td>NaN</td>\n",
       "      <td>NaN</td>\n",
       "      <td>NaN</td>\n",
       "      <td>full-size</td>\n",
       "      <td>full-size</td>\n",
       "    </tr>\n",
       "    <tr>\n",
       "      <th>type</th>\n",
       "      <td>other</td>\n",
       "      <td>sedan</td>\n",
       "      <td>SUV</td>\n",
       "      <td>pickup</td>\n",
       "      <td>pickup</td>\n",
       "    </tr>\n",
       "    <tr>\n",
       "      <th>paint_color</th>\n",
       "      <td>NaN</td>\n",
       "      <td>NaN</td>\n",
       "      <td>blue</td>\n",
       "      <td>blue</td>\n",
       "      <td>blue</td>\n",
       "    </tr>\n",
       "    <tr>\n",
       "      <th>image_url</th>\n",
       "      <td>https://images.craigslist.org/00N0N_ipkbHVZYf4...</td>\n",
       "      <td>https://images.craigslist.org/00s0s_gBHYmJ5o7y...</td>\n",
       "      <td>https://images.craigslist.org/00B0B_5zgEGWPOrt...</td>\n",
       "      <td>https://images.craigslist.org/00M0M_6o7KcDpArw...</td>\n",
       "      <td>https://images.craigslist.org/00p0p_b95l1EgUfl...</td>\n",
       "    </tr>\n",
       "    <tr>\n",
       "      <th>description</th>\n",
       "      <td>Carvana is the safer way to buy a car During t...</td>\n",
       "      <td>I'll move to another city and try to sell my c...</td>\n",
       "      <td>Clean 2006 BMW X3 3.0I.  Beautiful and rare Bl...</td>\n",
       "      <td>1974 chev. truck (LONG BED) NEW starter front ...</td>\n",
       "      <td>2005 Ford F350 Lariat (Bullet Proofed). This t...</td>\n",
       "    </tr>\n",
       "    <tr>\n",
       "      <th>state</th>\n",
       "      <td>al</td>\n",
       "      <td>al</td>\n",
       "      <td>al</td>\n",
       "      <td>al</td>\n",
       "      <td>al</td>\n",
       "    </tr>\n",
       "    <tr>\n",
       "      <th>lat</th>\n",
       "      <td>32.59</td>\n",
       "      <td>32.5475</td>\n",
       "      <td>32.6168</td>\n",
       "      <td>32.8616</td>\n",
       "      <td>32.5475</td>\n",
       "    </tr>\n",
       "    <tr>\n",
       "      <th>long</th>\n",
       "      <td>-85.48</td>\n",
       "      <td>-85.4682</td>\n",
       "      <td>-85.4641</td>\n",
       "      <td>-85.2161</td>\n",
       "      <td>-85.4682</td>\n",
       "    </tr>\n",
       "    <tr>\n",
       "      <th>posting_date</th>\n",
       "      <td>2020-12-02T08:11:30-0600</td>\n",
       "      <td>2020-12-02T02:11:50-0600</td>\n",
       "      <td>2020-12-01T19:50:41-0600</td>\n",
       "      <td>2020-12-01T15:54:45-0600</td>\n",
       "      <td>2020-12-01T12:53:56-0600</td>\n",
       "    </tr>\n",
       "  </tbody>\n",
       "</table>\n",
       "</div>"
      ],
      "text/plain": [
       "                                                              0  \\\n",
       "Unnamed: 0                                                    0   \n",
       "id                                                   7240372487   \n",
       "url           https://auburn.craigslist.org/ctd/d/auburn-uni...   \n",
       "region                                                   auburn   \n",
       "region_url                        https://auburn.craigslist.org   \n",
       "price                                                     35990   \n",
       "year                                                       2010   \n",
       "manufacturer                                          chevrolet   \n",
       "model                                      corvette grand sport   \n",
       "condition                                                  good   \n",
       "cylinders                                           8 cylinders   \n",
       "fuel                                                        gas   \n",
       "odometer                                                  32742   \n",
       "title_status                                              clean   \n",
       "transmission                                              other   \n",
       "VIN                                           1G1YU3DW1A5106980   \n",
       "drive                                                       rwd   \n",
       "size                                                        NaN   \n",
       "type                                                      other   \n",
       "paint_color                                                 NaN   \n",
       "image_url     https://images.craigslist.org/00N0N_ipkbHVZYf4...   \n",
       "description   Carvana is the safer way to buy a car During t...   \n",
       "state                                                        al   \n",
       "lat                                                       32.59   \n",
       "long                                                     -85.48   \n",
       "posting_date                           2020-12-02T08:11:30-0600   \n",
       "\n",
       "                                                              1  \\\n",
       "Unnamed: 0                                                    1   \n",
       "id                                                   7240309422   \n",
       "url           https://auburn.craigslist.org/cto/d/auburn-201...   \n",
       "region                                                   auburn   \n",
       "region_url                        https://auburn.craigslist.org   \n",
       "price                                                      7500   \n",
       "year                                                       2014   \n",
       "manufacturer                                            hyundai   \n",
       "model                                                    sonata   \n",
       "condition                                             excellent   \n",
       "cylinders                                           4 cylinders   \n",
       "fuel                                                        gas   \n",
       "odometer                                                  93600   \n",
       "title_status                                              clean   \n",
       "transmission                                          automatic   \n",
       "VIN                                           5NPEC4AB0EH813529   \n",
       "drive                                                       fwd   \n",
       "size                                                        NaN   \n",
       "type                                                      sedan   \n",
       "paint_color                                                 NaN   \n",
       "image_url     https://images.craigslist.org/00s0s_gBHYmJ5o7y...   \n",
       "description   I'll move to another city and try to sell my c...   \n",
       "state                                                        al   \n",
       "lat                                                     32.5475   \n",
       "long                                                   -85.4682   \n",
       "posting_date                           2020-12-02T02:11:50-0600   \n",
       "\n",
       "                                                              2  \\\n",
       "Unnamed: 0                                                    2   \n",
       "id                                                   7240224296   \n",
       "url           https://auburn.craigslist.org/cto/d/auburn-200...   \n",
       "region                                                   auburn   \n",
       "region_url                        https://auburn.craigslist.org   \n",
       "price                                                      4900   \n",
       "year                                                       2006   \n",
       "manufacturer                                                bmw   \n",
       "model                                                   x3 3.0i   \n",
       "condition                                                  good   \n",
       "cylinders                                           6 cylinders   \n",
       "fuel                                                        gas   \n",
       "odometer                                                  87046   \n",
       "title_status                                              clean   \n",
       "transmission                                          automatic   \n",
       "VIN                                                         NaN   \n",
       "drive                                                       NaN   \n",
       "size                                                        NaN   \n",
       "type                                                        SUV   \n",
       "paint_color                                                blue   \n",
       "image_url     https://images.craigslist.org/00B0B_5zgEGWPOrt...   \n",
       "description   Clean 2006 BMW X3 3.0I.  Beautiful and rare Bl...   \n",
       "state                                                        al   \n",
       "lat                                                     32.6168   \n",
       "long                                                   -85.4641   \n",
       "posting_date                           2020-12-01T19:50:41-0600   \n",
       "\n",
       "                                                              3  \\\n",
       "Unnamed: 0                                                    3   \n",
       "id                                                   7240103965   \n",
       "url           https://auburn.craigslist.org/cto/d/lanett-tru...   \n",
       "region                                                   auburn   \n",
       "region_url                        https://auburn.craigslist.org   \n",
       "price                                                      2000   \n",
       "year                                                       1974   \n",
       "manufacturer                                          chevrolet   \n",
       "model                                                      c-10   \n",
       "condition                                                  good   \n",
       "cylinders                                           4 cylinders   \n",
       "fuel                                                        gas   \n",
       "odometer                                                 190000   \n",
       "title_status                                              clean   \n",
       "transmission                                          automatic   \n",
       "VIN                                                         NaN   \n",
       "drive                                                       rwd   \n",
       "size                                                  full-size   \n",
       "type                                                     pickup   \n",
       "paint_color                                                blue   \n",
       "image_url     https://images.craigslist.org/00M0M_6o7KcDpArw...   \n",
       "description   1974 chev. truck (LONG BED) NEW starter front ...   \n",
       "state                                                        al   \n",
       "lat                                                     32.8616   \n",
       "long                                                   -85.2161   \n",
       "posting_date                           2020-12-01T15:54:45-0600   \n",
       "\n",
       "                                                              4  \n",
       "Unnamed: 0                                                    4  \n",
       "id                                                   7239983776  \n",
       "url           https://auburn.craigslist.org/cto/d/auburn-200...  \n",
       "region                                                   auburn  \n",
       "region_url                        https://auburn.craigslist.org  \n",
       "price                                                     19500  \n",
       "year                                                       2005  \n",
       "manufacturer                                               ford  \n",
       "model                                               f350 lariat  \n",
       "condition                                             excellent  \n",
       "cylinders                                           8 cylinders  \n",
       "fuel                                                     diesel  \n",
       "odometer                                                 116000  \n",
       "title_status                                               lien  \n",
       "transmission                                          automatic  \n",
       "VIN                                                         NaN  \n",
       "drive                                                       4wd  \n",
       "size                                                  full-size  \n",
       "type                                                     pickup  \n",
       "paint_color                                                blue  \n",
       "image_url     https://images.craigslist.org/00p0p_b95l1EgUfl...  \n",
       "description   2005 Ford F350 Lariat (Bullet Proofed). This t...  \n",
       "state                                                        al  \n",
       "lat                                                     32.5475  \n",
       "long                                                   -85.4682  \n",
       "posting_date                           2020-12-01T12:53:56-0600  "
      ]
     },
     "execution_count": 3,
     "metadata": {},
     "output_type": "execute_result"
    }
   ],
   "source": [
    "cars.head().T"
   ]
  },
  {
   "cell_type": "code",
   "execution_count": 4,
   "metadata": {},
   "outputs": [
    {
     "name": "stdout",
     "output_type": "stream",
     "text": [
      "<class 'pandas.core.frame.DataFrame'>\n",
      "RangeIndex: 458213 entries, 0 to 458212\n",
      "Data columns (total 26 columns):\n",
      " #   Column        Non-Null Count   Dtype  \n",
      "---  ------        --------------   -----  \n",
      " 0   Unnamed: 0    458213 non-null  int64  \n",
      " 1   id            458213 non-null  int64  \n",
      " 2   url           458213 non-null  object \n",
      " 3   region        458213 non-null  object \n",
      " 4   region_url    458213 non-null  object \n",
      " 5   price         458213 non-null  int64  \n",
      " 6   year          457163 non-null  float64\n",
      " 7   manufacturer  439993 non-null  object \n",
      " 8   model         453367 non-null  object \n",
      " 9   condition     265273 non-null  object \n",
      " 10  cylinders     287073 non-null  object \n",
      " 11  fuel          454976 non-null  object \n",
      " 12  odometer      402910 non-null  float64\n",
      " 13  title_status  455636 non-null  object \n",
      " 14  transmission  455771 non-null  object \n",
      " 15  VIN           270664 non-null  object \n",
      " 16  drive         324025 non-null  object \n",
      " 17  size          136865 non-null  object \n",
      " 18  type          345475 non-null  object \n",
      " 19  paint_color   317370 non-null  object \n",
      " 20  image_url     458185 non-null  object \n",
      " 21  description   458143 non-null  object \n",
      " 22  state         458213 non-null  object \n",
      " 23  lat           450765 non-null  float64\n",
      " 24  long          450765 non-null  float64\n",
      " 25  posting_date  458185 non-null  object \n",
      "dtypes: float64(4), int64(3), object(19)\n",
      "memory usage: 90.9+ MB\n"
     ]
    }
   ],
   "source": [
    "cars.info()"
   ]
  },
  {
   "cell_type": "code",
   "execution_count": 5,
   "metadata": {
    "scrolled": true
   },
   "outputs": [
    {
     "data": {
      "text/plain": [
       "array(['auburn', 'birmingham', 'dothan', 'florence / muscle shoals',\n",
       "       'gadsden-anniston', 'huntsville / decatur', 'mobile', 'montgomery',\n",
       "       'tuscaloosa', 'anchorage / mat-su', 'fairbanks', 'kenai peninsula',\n",
       "       'southeast alaska', 'flagstaff / sedona', 'mohave county',\n",
       "       'phoenix', 'prescott', 'show low', 'sierra vista', 'tucson',\n",
       "       'yuma', 'fayetteville', 'fort smith', 'jonesboro', 'little rock',\n",
       "       'texarkana', 'bakersfield', 'chico', 'fresno / madera',\n",
       "       'gold country', 'hanford-corcoran', 'humboldt county',\n",
       "       'imperial county', 'inland empire', 'los angeles',\n",
       "       'mendocino county', 'merced', 'modesto', 'monterey bay',\n",
       "       'orange county', 'palm springs', 'redding', 'reno / tahoe',\n",
       "       'sacramento', 'san diego', 'san luis obispo', 'santa barbara',\n",
       "       'santa maria', 'SF bay area', 'siskiyou county', 'stockton',\n",
       "       'susanville', 'ventura county', 'visalia-tulare', 'yuba-sutter',\n",
       "       'boulder', 'colorado springs', 'denver', 'eastern CO',\n",
       "       'fort collins / north CO', 'high rockies', 'pueblo',\n",
       "       'western slope', 'eastern CT', 'hartford', 'new haven',\n",
       "       'northwest CT', 'washington, DC', 'delaware', 'daytona beach',\n",
       "       'florida keys', 'ft myers / SW florida', 'gainesville',\n",
       "       'heartland florida', 'jacksonville', 'lakeland',\n",
       "       'north central FL', 'ocala', 'okaloosa / walton', 'orlando',\n",
       "       'panama city', 'pensacola', 'sarasota-bradenton', 'south florida',\n",
       "       'space coast', 'st augustine', 'tallahassee', 'tampa bay area',\n",
       "       'treasure coast', 'albany', 'athens', 'atlanta', 'augusta',\n",
       "       'brunswick', 'columbus', 'macon / warner robins', 'northwest GA',\n",
       "       'savannah / hinesville', 'statesboro', 'valdosta', 'hawaii',\n",
       "       'boise', 'east idaho', 'lewiston / clarkston', 'pullman / moscow',\n",
       "       \"spokane / coeur d'alene\", 'twin falls', 'bloomington-normal',\n",
       "       'champaign urbana', 'chicago', 'decatur', 'la salle co',\n",
       "       'mattoon-charleston', 'peoria', 'quad cities, IA/IL', 'rockford',\n",
       "       'southern illinois', 'springfield', 'st louis, MO', 'western IL',\n",
       "       'bloomington', 'evansville', 'fort wayne', 'indianapolis',\n",
       "       'kokomo', 'lafayette / west lafayette', 'muncie / anderson',\n",
       "       'richmond', 'south bend / michiana', 'terre haute', 'ames',\n",
       "       'cedar rapids', 'des moines', 'dubuque', 'fort dodge', 'iowa city',\n",
       "       'mason city', 'omaha / council bluffs', 'sioux city',\n",
       "       'southeast IA', 'waterloo / cedar falls', 'kansas city, MO',\n",
       "       'lawrence', 'manhattan', 'northwest KS', 'salina', 'southeast KS',\n",
       "       'southwest KS', 'topeka', 'wichita', 'bowling green',\n",
       "       'eastern kentucky', 'huntington-ashland', 'lexington',\n",
       "       'louisville', 'owensboro', 'western KY', 'baton rouge',\n",
       "       'central louisiana', 'houma', 'lafayette', 'lake charles',\n",
       "       'monroe', 'new orleans', 'shreveport', 'maine', 'annapolis',\n",
       "       'baltimore', 'cumberland valley', 'eastern shore', 'frederick',\n",
       "       'southern maryland', 'western maryland', 'boston',\n",
       "       'cape cod / islands', 'south coast', 'western massachusetts',\n",
       "       'worcester / central MA', 'ann arbor', 'battle creek',\n",
       "       'central michigan', 'detroit metro', 'flint', 'grand rapids',\n",
       "       'holland', 'jackson', 'kalamazoo', 'lansing', 'muskegon',\n",
       "       'northern michigan', 'port huron', 'saginaw-midland-baycity',\n",
       "       'southwest michigan', 'the thumb', 'upper peninsula', 'bemidji',\n",
       "       'brainerd', 'duluth / superior', 'fargo / moorhead', 'mankato',\n",
       "       'minneapolis / st paul', 'rochester', 'southwest MN', 'st cloud',\n",
       "       'gulfport / biloxi', 'hattiesburg', 'meridian',\n",
       "       'north mississippi', 'southwest MS', 'columbia / jeff city',\n",
       "       'joplin', 'kansas city', 'kirksville', 'lake of the ozarks',\n",
       "       'southeast missouri', 'st joseph', 'st louis', 'billings',\n",
       "       'bozeman', 'butte', 'eastern montana', 'great falls', 'helena',\n",
       "       'kalispell', 'missoula', 'asheville', 'boone', 'charlotte',\n",
       "       'eastern NC', 'greensboro', 'hickory / lenoir', 'outer banks',\n",
       "       'raleigh / durham / CH', 'wilmington', 'winston-salem',\n",
       "       'grand island', 'lincoln', 'north platte',\n",
       "       'scottsbluff / panhandle', 'elko', 'las vegas', 'central NJ',\n",
       "       'jersey shore', 'north jersey', 'south jersey', 'albuquerque',\n",
       "       'clovis / portales', 'farmington', 'las cruces',\n",
       "       'roswell / carlsbad', 'santa fe / taos', 'binghamton', 'buffalo',\n",
       "       'catskills', 'chautauqua', 'elmira-corning', 'finger lakes',\n",
       "       'glens falls', 'hudson valley', 'ithaca', 'long island',\n",
       "       'new york city', 'oneonta', 'plattsburgh-adirondacks',\n",
       "       'potsdam-canton-massena', 'syracuse', 'twin tiers NY/PA',\n",
       "       'utica-rome-oneida', 'watertown', 'new hampshire', 'bismarck',\n",
       "       'grand forks', 'north dakota', 'akron / canton', 'ashtabula',\n",
       "       'chillicothe', 'cincinnati', 'cleveland', 'dayton / springfield',\n",
       "       'lima / findlay', 'mansfield', 'northern panhandle',\n",
       "       'parkersburg-marietta', 'sandusky', 'toledo', 'tuscarawas co',\n",
       "       'youngstown', 'zanesville / cambridge', 'fort smith, AR', 'lawton',\n",
       "       'northwest OK', 'oklahoma city', 'stillwater', 'texoma', 'tulsa',\n",
       "       'bend', 'corvallis/albany', 'east oregon', 'eugene',\n",
       "       'klamath falls', 'medford-ashland', 'oregon coast', 'portland',\n",
       "       'roseburg', 'salem', 'altoona-johnstown', 'erie', 'harrisburg',\n",
       "       'lancaster', 'lehigh valley', 'meadville', 'philadelphia',\n",
       "       'pittsburgh', 'poconos', 'reading', 'scranton / wilkes-barre',\n",
       "       'state college', 'williamsport', 'york', 'rhode island',\n",
       "       'charleston', 'columbia', 'florence', 'greenville / upstate',\n",
       "       'hilton head', 'myrtle beach', 'northeast SD',\n",
       "       'pierre / central SD', 'rapid city / west SD',\n",
       "       'sioux falls / SE SD', 'south dakota', 'chattanooga',\n",
       "       'clarksville', 'cookeville', 'knoxville', 'memphis', 'nashville',\n",
       "       'tri-cities', 'abilene', 'amarillo', 'austin',\n",
       "       'beaumont / port arthur', 'brownsville', 'college station',\n",
       "       'corpus christi', 'dallas / fort worth', 'deep east texas',\n",
       "       'del rio / eagle pass', 'el paso', 'galveston', 'houston',\n",
       "       'killeen / temple / ft hood', 'laredo', 'lubbock',\n",
       "       'mcallen / edinburg', 'odessa / midland', 'san angelo',\n",
       "       'san antonio', 'san marcos', 'southwest TX', 'tyler / east TX',\n",
       "       'victoria', 'waco', 'wichita falls', 'logan', 'ogden-clearfield',\n",
       "       'provo / orem', 'salt lake city', 'st george', 'vermont',\n",
       "       'charlottesville', 'danville', 'fredericksburg', 'harrisonburg',\n",
       "       'lynchburg', 'new river valley', 'norfolk / hampton roads',\n",
       "       'roanoke', 'southwest VA', 'winchester', 'bellingham',\n",
       "       'kennewick-pasco-richland', 'moses lake', 'olympic peninsula',\n",
       "       'seattle-tacoma', 'skagit / island / SJI', 'wenatchee', 'yakima',\n",
       "       'eastern panhandle', 'morgantown', 'southern WV',\n",
       "       'west virginia (old)', 'appleton-oshkosh-FDL', 'eau claire',\n",
       "       'green bay', 'janesville', 'kenosha-racine', 'la crosse',\n",
       "       'madison', 'milwaukee', 'northern WI', 'sheboygan', 'wausau',\n",
       "       'wyoming', 'sioux city, IA'], dtype=object)"
      ]
     },
     "execution_count": 5,
     "metadata": {},
     "output_type": "execute_result"
    }
   ],
   "source": [
    "cars.region.unique()"
   ]
  },
  {
   "cell_type": "code",
   "execution_count": 6,
   "metadata": {},
   "outputs": [
    {
     "name": "stdout",
     "output_type": "stream",
     "text": [
      "<class 'pandas.core.frame.DataFrame'>\n",
      "RangeIndex: 458213 entries, 0 to 458212\n",
      "Data columns (total 17 columns):\n",
      " #   Column        Non-Null Count   Dtype  \n",
      "---  ------        --------------   -----  \n",
      " 0   price         458213 non-null  int64  \n",
      " 1   year          457163 non-null  float64\n",
      " 2   manufacturer  439993 non-null  object \n",
      " 3   model         453367 non-null  object \n",
      " 4   condition     265273 non-null  object \n",
      " 5   cylinders     287073 non-null  object \n",
      " 6   fuel          454976 non-null  object \n",
      " 7   odometer      402910 non-null  float64\n",
      " 8   title_status  455636 non-null  object \n",
      " 9   transmission  455771 non-null  object \n",
      " 10  drive         324025 non-null  object \n",
      " 11  size          136865 non-null  object \n",
      " 12  type          345475 non-null  object \n",
      " 13  paint_color   317370 non-null  object \n",
      " 14  description   458143 non-null  object \n",
      " 15  state         458213 non-null  object \n",
      " 16  posting_date  458185 non-null  object \n",
      "dtypes: float64(2), int64(1), object(14)\n",
      "memory usage: 59.4+ MB\n"
     ]
    }
   ],
   "source": [
    "cars.drop(columns=['Unnamed: 0','id', 'url', 'region_url','VIN', 'image_url', 'lat', 'long', 'region'], inplace=True)\n",
    "cars.info()"
   ]
  },
  {
   "cell_type": "code",
   "execution_count": 7,
   "metadata": {},
   "outputs": [],
   "source": [
    "cars.drop_duplicates(subset = ['description'], inplace=True)"
   ]
  },
  {
   "cell_type": "code",
   "execution_count": 8,
   "metadata": {},
   "outputs": [
    {
     "data": {
      "text/html": [
       "<div>\n",
       "<style scoped>\n",
       "    .dataframe tbody tr th:only-of-type {\n",
       "        vertical-align: middle;\n",
       "    }\n",
       "\n",
       "    .dataframe tbody tr th {\n",
       "        vertical-align: top;\n",
       "    }\n",
       "\n",
       "    .dataframe thead th {\n",
       "        text-align: right;\n",
       "    }\n",
       "</style>\n",
       "<table border=\"1\" class=\"dataframe\">\n",
       "  <thead>\n",
       "    <tr style=\"text-align: right;\">\n",
       "      <th></th>\n",
       "      <th>NaN%</th>\n",
       "    </tr>\n",
       "  </thead>\n",
       "  <tbody>\n",
       "    <tr>\n",
       "      <th>price</th>\n",
       "      <td>0.000000</td>\n",
       "    </tr>\n",
       "    <tr>\n",
       "      <th>year</th>\n",
       "      <td>0.179785</td>\n",
       "    </tr>\n",
       "    <tr>\n",
       "      <th>manufacturer</th>\n",
       "      <td>3.637849</td>\n",
       "    </tr>\n",
       "    <tr>\n",
       "      <th>model</th>\n",
       "      <td>1.048009</td>\n",
       "    </tr>\n",
       "    <tr>\n",
       "      <th>condition</th>\n",
       "      <td>40.179213</td>\n",
       "    </tr>\n",
       "    <tr>\n",
       "      <th>cylinders</th>\n",
       "      <td>36.112585</td>\n",
       "    </tr>\n",
       "    <tr>\n",
       "      <th>fuel</th>\n",
       "      <td>0.577341</td>\n",
       "    </tr>\n",
       "    <tr>\n",
       "      <th>odometer</th>\n",
       "      <td>10.519373</td>\n",
       "    </tr>\n",
       "    <tr>\n",
       "      <th>title_status</th>\n",
       "      <td>0.414468</td>\n",
       "    </tr>\n",
       "    <tr>\n",
       "      <th>transmission</th>\n",
       "      <td>0.558348</td>\n",
       "    </tr>\n",
       "    <tr>\n",
       "      <th>drive</th>\n",
       "      <td>28.024343</td>\n",
       "    </tr>\n",
       "    <tr>\n",
       "      <th>size</th>\n",
       "      <td>69.130840</td>\n",
       "    </tr>\n",
       "    <tr>\n",
       "      <th>type</th>\n",
       "      <td>21.492502</td>\n",
       "    </tr>\n",
       "    <tr>\n",
       "      <th>paint_color</th>\n",
       "      <td>28.739840</td>\n",
       "    </tr>\n",
       "    <tr>\n",
       "      <th>description</th>\n",
       "      <td>0.000260</td>\n",
       "    </tr>\n",
       "    <tr>\n",
       "      <th>state</th>\n",
       "      <td>0.000000</td>\n",
       "    </tr>\n",
       "    <tr>\n",
       "      <th>posting_date</th>\n",
       "      <td>0.000260</td>\n",
       "    </tr>\n",
       "  </tbody>\n",
       "</table>\n",
       "</div>"
      ],
      "text/plain": [
       "                   NaN%\n",
       "price          0.000000\n",
       "year           0.179785\n",
       "manufacturer   3.637849\n",
       "model          1.048009\n",
       "condition     40.179213\n",
       "cylinders     36.112585\n",
       "fuel           0.577341\n",
       "odometer      10.519373\n",
       "title_status   0.414468\n",
       "transmission   0.558348\n",
       "drive         28.024343\n",
       "size          69.130840\n",
       "type          21.492502\n",
       "paint_color   28.739840\n",
       "description    0.000260\n",
       "state          0.000000\n",
       "posting_date   0.000260"
      ]
     },
     "execution_count": 8,
     "metadata": {},
     "output_type": "execute_result"
    }
   ],
   "source": [
    "pd.DataFrame(100*cars.isnull().sum()/len(cars), columns=['NaN%'])"
   ]
  },
  {
   "cell_type": "code",
   "execution_count": 9,
   "metadata": {},
   "outputs": [],
   "source": [
    "cars['age'] = 2021 - cars.year"
   ]
  },
  {
   "cell_type": "code",
   "execution_count": 10,
   "metadata": {},
   "outputs": [
    {
     "data": {
      "text/plain": [
       "array(['al', 'ak', 'az', 'ar', 'ca', 'co', 'ct', 'dc', 'de', 'fl', 'ga',\n",
       "       'hi', 'id', 'il', 'in', 'ia', 'ks', 'ky', 'la', 'me', 'md', 'ma',\n",
       "       'mi', 'mn', 'ms', 'mo', 'mt', 'nc', 'ne', 'nv', 'nj', 'nm', 'ny',\n",
       "       'nh', 'nd', 'oh', 'ok', 'or', 'pa', 'ri', 'sc', 'sd', 'tn', 'tx',\n",
       "       'ut', 'vt', 'va', 'wa', 'wv', 'wi', 'wy'], dtype=object)"
      ]
     },
     "execution_count": 10,
     "metadata": {},
     "output_type": "execute_result"
    }
   ],
   "source": [
    "cars.state.unique()"
   ]
  },
  {
   "cell_type": "code",
   "execution_count": 11,
   "metadata": {},
   "outputs": [
    {
     "data": {
      "text/plain": [
       "array(['clean', 'lien', 'missing', 'salvage', 'rebuilt', nan,\n",
       "       'parts only'], dtype=object)"
      ]
     },
     "execution_count": 11,
     "metadata": {},
     "output_type": "execute_result"
    }
   ],
   "source": [
    "cars.title_status.unique()"
   ]
  },
  {
   "cell_type": "code",
   "execution_count": 12,
   "metadata": {},
   "outputs": [],
   "source": [
    "cars = cars[cars.title_status!='parts only']"
   ]
  },
  {
   "cell_type": "code",
   "execution_count": 13,
   "metadata": {},
   "outputs": [
    {
     "data": {
      "text/plain": [
       "array(['chevrolet', 'hyundai', 'bmw', 'ford', 'toyota', 'jeep', 'ram',\n",
       "       nan, 'honda', 'dodge', 'lexus', 'mercedes-benz', 'cadillac', 'gmc',\n",
       "       'subaru', 'infiniti', 'mazda', 'mini', 'nissan', 'volkswagen',\n",
       "       'kia', 'lincoln', 'mitsubishi', 'buick', 'audi', 'rover',\n",
       "       'chrysler', 'fiat', 'acura', 'volvo', 'pontiac', 'tesla', 'saturn',\n",
       "       'mercury', 'datsun', 'porsche', 'jaguar', 'ferrari', 'alfa-romeo',\n",
       "       'harley-davidson', 'land rover', 'aston-martin', 'morgan',\n",
       "       'hennessey'], dtype=object)"
      ]
     },
     "execution_count": 13,
     "metadata": {},
     "output_type": "execute_result"
    }
   ],
   "source": [
    "cars.manufacturer.unique()"
   ]
  },
  {
   "cell_type": "code",
   "execution_count": 14,
   "metadata": {},
   "outputs": [],
   "source": [
    "cars.loc[cars.manufacturer == 'rover','manufacturer'] = 'land rover'"
   ]
  },
  {
   "cell_type": "code",
   "execution_count": 15,
   "metadata": {},
   "outputs": [],
   "source": [
    "cars.dropna(subset=['year','title_status','manufacturer'], inplace=True)"
   ]
  },
  {
   "cell_type": "markdown",
   "metadata": {},
   "source": [
    "# EDA"
   ]
  },
  {
   "cell_type": "markdown",
   "metadata": {},
   "source": [
    "As somebody that has been looking to buy cars several times in my life, I know that some people (mostly dealerships) post cars with an extremely low price so their posts appear regardless of the filters you apply in your search, or they post the downpayment as the price. To take care of this, we'll apply our own little filter, that is, we want to drop all rows that have a newer car with a price below certain price threshold.\n",
    "\n",
    "Let's see what the best threshold might be:"
   ]
  },
  {
   "cell_type": "code",
   "execution_count": 16,
   "metadata": {},
   "outputs": [
    {
     "data": {
      "text/html": [
       "<div>\n",
       "<style scoped>\n",
       "    .dataframe tbody tr th:only-of-type {\n",
       "        vertical-align: middle;\n",
       "    }\n",
       "\n",
       "    .dataframe tbody tr th {\n",
       "        vertical-align: top;\n",
       "    }\n",
       "\n",
       "    .dataframe thead th {\n",
       "        text-align: right;\n",
       "    }\n",
       "</style>\n",
       "<table border=\"1\" class=\"dataframe\">\n",
       "  <thead>\n",
       "    <tr style=\"text-align: right;\">\n",
       "      <th></th>\n",
       "      <th>price</th>\n",
       "      <th>year</th>\n",
       "      <th>odometer</th>\n",
       "      <th>age</th>\n",
       "    </tr>\n",
       "  </thead>\n",
       "  <tbody>\n",
       "    <tr>\n",
       "      <th>count</th>\n",
       "      <td>3.687960e+05</td>\n",
       "      <td>368796.000000</td>\n",
       "      <td>3.320100e+05</td>\n",
       "      <td>368796.000000</td>\n",
       "    </tr>\n",
       "    <tr>\n",
       "      <th>mean</th>\n",
       "      <td>4.244243e+04</td>\n",
       "      <td>2010.926859</td>\n",
       "      <td>1.004221e+05</td>\n",
       "      <td>10.073141</td>\n",
       "    </tr>\n",
       "    <tr>\n",
       "      <th>std</th>\n",
       "      <td>8.901176e+06</td>\n",
       "      <td>8.623170</td>\n",
       "      <td>3.555933e+06</td>\n",
       "      <td>8.623170</td>\n",
       "    </tr>\n",
       "    <tr>\n",
       "      <th>min</th>\n",
       "      <td>0.000000e+00</td>\n",
       "      <td>1900.000000</td>\n",
       "      <td>0.000000e+00</td>\n",
       "      <td>0.000000</td>\n",
       "    </tr>\n",
       "    <tr>\n",
       "      <th>25%</th>\n",
       "      <td>4.900000e+03</td>\n",
       "      <td>2008.000000</td>\n",
       "      <td>3.926200e+04</td>\n",
       "      <td>5.000000</td>\n",
       "    </tr>\n",
       "    <tr>\n",
       "      <th>50%</th>\n",
       "      <td>1.099900e+04</td>\n",
       "      <td>2013.000000</td>\n",
       "      <td>8.457750e+04</td>\n",
       "      <td>8.000000</td>\n",
       "    </tr>\n",
       "    <tr>\n",
       "      <th>75%</th>\n",
       "      <td>2.149500e+04</td>\n",
       "      <td>2016.000000</td>\n",
       "      <td>1.318475e+05</td>\n",
       "      <td>13.000000</td>\n",
       "    </tr>\n",
       "    <tr>\n",
       "      <th>max</th>\n",
       "      <td>3.615215e+09</td>\n",
       "      <td>2021.000000</td>\n",
       "      <td>2.043756e+09</td>\n",
       "      <td>121.000000</td>\n",
       "    </tr>\n",
       "  </tbody>\n",
       "</table>\n",
       "</div>"
      ],
      "text/plain": [
       "              price           year      odometer            age\n",
       "count  3.687960e+05  368796.000000  3.320100e+05  368796.000000\n",
       "mean   4.244243e+04    2010.926859  1.004221e+05      10.073141\n",
       "std    8.901176e+06       8.623170  3.555933e+06       8.623170\n",
       "min    0.000000e+00    1900.000000  0.000000e+00       0.000000\n",
       "25%    4.900000e+03    2008.000000  3.926200e+04       5.000000\n",
       "50%    1.099900e+04    2013.000000  8.457750e+04       8.000000\n",
       "75%    2.149500e+04    2016.000000  1.318475e+05      13.000000\n",
       "max    3.615215e+09    2021.000000  2.043756e+09     121.000000"
      ]
     },
     "execution_count": 16,
     "metadata": {},
     "output_type": "execute_result"
    }
   ],
   "source": [
    "cars.describe()"
   ]
  },
  {
   "cell_type": "markdown",
   "metadata": {},
   "source": [
    "We have outliers in price and odometer, we can visualize this better with a boxplot:"
   ]
  },
  {
   "cell_type": "code",
   "execution_count": 17,
   "metadata": {},
   "outputs": [
    {
     "data": {
      "text/plain": [
       "<AxesSubplot:>"
      ]
     },
     "execution_count": 17,
     "metadata": {},
     "output_type": "execute_result"
    },
    {
     "data": {
      "image/png": "[encoded data removed]",
      "text/plain": [
       "<Figure size 432x288 with 1 Axes>"
      ]
     },
     "metadata": {},
     "output_type": "display_data"
    }
   ],
   "source": [
    "sns.boxplot(data=cars)"
   ]
  },
  {
   "cell_type": "markdown",
   "metadata": {},
   "source": [
    "We'll drop those that are above `$500,000`, those below `$100`, and those 500,000 miles:"
   ]
  },
  {
   "cell_type": "code",
   "execution_count": 18,
   "metadata": {},
   "outputs": [],
   "source": [
    "cars = cars[cars.odometer<500000]"
   ]
  },
  {
   "cell_type": "code",
   "execution_count": 19,
   "metadata": {},
   "outputs": [],
   "source": [
    "cars = cars[cars.price<500000]\n",
    "cars = cars[cars.price>100]"
   ]
  },
  {
   "cell_type": "code",
   "execution_count": 20,
   "metadata": {},
   "outputs": [
    {
     "data": {
      "text/html": [
       "<div>\n",
       "<style scoped>\n",
       "    .dataframe tbody tr th:only-of-type {\n",
       "        vertical-align: middle;\n",
       "    }\n",
       "\n",
       "    .dataframe tbody tr th {\n",
       "        vertical-align: top;\n",
       "    }\n",
       "\n",
       "    .dataframe thead th {\n",
       "        text-align: right;\n",
       "    }\n",
       "</style>\n",
       "<table border=\"1\" class=\"dataframe\">\n",
       "  <thead>\n",
       "    <tr style=\"text-align: right;\">\n",
       "      <th></th>\n",
       "      <th>price</th>\n",
       "      <th>year</th>\n",
       "      <th>odometer</th>\n",
       "      <th>age</th>\n",
       "    </tr>\n",
       "  </thead>\n",
       "  <tbody>\n",
       "    <tr>\n",
       "      <th>count</th>\n",
       "      <td>200453.000000</td>\n",
       "      <td>200453.000000</td>\n",
       "      <td>200453.000000</td>\n",
       "      <td>200453.000000</td>\n",
       "    </tr>\n",
       "    <tr>\n",
       "      <th>mean</th>\n",
       "      <td>21086.144273</td>\n",
       "      <td>2015.233736</td>\n",
       "      <td>67865.184747</td>\n",
       "      <td>5.766264</td>\n",
       "    </tr>\n",
       "    <tr>\n",
       "      <th>std</th>\n",
       "      <td>13452.161163</td>\n",
       "      <td>2.562672</td>\n",
       "      <td>47397.948480</td>\n",
       "      <td>2.562672</td>\n",
       "    </tr>\n",
       "    <tr>\n",
       "      <th>min</th>\n",
       "      <td>101.000000</td>\n",
       "      <td>2011.000000</td>\n",
       "      <td>0.000000</td>\n",
       "      <td>0.000000</td>\n",
       "    </tr>\n",
       "    <tr>\n",
       "      <th>25%</th>\n",
       "      <td>11595.000000</td>\n",
       "      <td>2013.000000</td>\n",
       "      <td>29706.000000</td>\n",
       "      <td>4.000000</td>\n",
       "    </tr>\n",
       "    <tr>\n",
       "      <th>50%</th>\n",
       "      <td>18200.000000</td>\n",
       "      <td>2015.000000</td>\n",
       "      <td>59750.000000</td>\n",
       "      <td>6.000000</td>\n",
       "    </tr>\n",
       "    <tr>\n",
       "      <th>75%</th>\n",
       "      <td>28590.000000</td>\n",
       "      <td>2017.000000</td>\n",
       "      <td>98820.000000</td>\n",
       "      <td>8.000000</td>\n",
       "    </tr>\n",
       "    <tr>\n",
       "      <th>max</th>\n",
       "      <td>384995.000000</td>\n",
       "      <td>2021.000000</td>\n",
       "      <td>490000.000000</td>\n",
       "      <td>10.000000</td>\n",
       "    </tr>\n",
       "  </tbody>\n",
       "</table>\n",
       "</div>"
      ],
      "text/plain": [
       "               price           year       odometer            age\n",
       "count  200453.000000  200453.000000  200453.000000  200453.000000\n",
       "mean    21086.144273    2015.233736   67865.184747       5.766264\n",
       "std     13452.161163       2.562672   47397.948480       2.562672\n",
       "min       101.000000    2011.000000       0.000000       0.000000\n",
       "25%     11595.000000    2013.000000   29706.000000       4.000000\n",
       "50%     18200.000000    2015.000000   59750.000000       6.000000\n",
       "75%     28590.000000    2017.000000   98820.000000       8.000000\n",
       "max    384995.000000    2021.000000  490000.000000      10.000000"
      ]
     },
     "execution_count": 20,
     "metadata": {},
     "output_type": "execute_result"
    }
   ],
   "source": [
    "cars[cars.year>2010].describe()"
   ]
  },
  {
   "cell_type": "markdown",
   "metadata": {},
   "source": [
    "Here we see our IQR for cars from 2011 or newer is between `$8800` and `$27K`. "
   ]
  },
  {
   "cell_type": "code",
   "execution_count": 21,
   "metadata": {},
   "outputs": [
    {
     "data": {
      "text/html": [
       "<div>\n",
       "<style scoped>\n",
       "    .dataframe tbody tr th:only-of-type {\n",
       "        vertical-align: middle;\n",
       "    }\n",
       "\n",
       "    .dataframe tbody tr th {\n",
       "        vertical-align: top;\n",
       "    }\n",
       "\n",
       "    .dataframe thead th {\n",
       "        text-align: right;\n",
       "    }\n",
       "</style>\n",
       "<table border=\"1\" class=\"dataframe\">\n",
       "  <thead>\n",
       "    <tr style=\"text-align: right;\">\n",
       "      <th></th>\n",
       "      <th>price</th>\n",
       "      <th>year</th>\n",
       "      <th>odometer</th>\n",
       "      <th>age</th>\n",
       "    </tr>\n",
       "  </thead>\n",
       "  <tbody>\n",
       "    <tr>\n",
       "      <th>count</th>\n",
       "      <td>88699.000000</td>\n",
       "      <td>88699.000000</td>\n",
       "      <td>88699.000000</td>\n",
       "      <td>88699.000000</td>\n",
       "    </tr>\n",
       "    <tr>\n",
       "      <th>mean</th>\n",
       "      <td>7677.321458</td>\n",
       "      <td>2006.499791</td>\n",
       "      <td>140351.506680</td>\n",
       "      <td>14.500209</td>\n",
       "    </tr>\n",
       "    <tr>\n",
       "      <th>std</th>\n",
       "      <td>6450.115524</td>\n",
       "      <td>2.580309</td>\n",
       "      <td>56301.279845</td>\n",
       "      <td>2.580309</td>\n",
       "    </tr>\n",
       "    <tr>\n",
       "      <th>min</th>\n",
       "      <td>101.000000</td>\n",
       "      <td>2001.000000</td>\n",
       "      <td>0.000000</td>\n",
       "      <td>11.000000</td>\n",
       "    </tr>\n",
       "    <tr>\n",
       "      <th>25%</th>\n",
       "      <td>3875.000000</td>\n",
       "      <td>2005.000000</td>\n",
       "      <td>106000.000000</td>\n",
       "      <td>12.000000</td>\n",
       "    </tr>\n",
       "    <tr>\n",
       "      <th>50%</th>\n",
       "      <td>5950.000000</td>\n",
       "      <td>2007.000000</td>\n",
       "      <td>140000.000000</td>\n",
       "      <td>14.000000</td>\n",
       "    </tr>\n",
       "    <tr>\n",
       "      <th>75%</th>\n",
       "      <td>9200.000000</td>\n",
       "      <td>2009.000000</td>\n",
       "      <td>174910.000000</td>\n",
       "      <td>16.000000</td>\n",
       "    </tr>\n",
       "    <tr>\n",
       "      <th>max</th>\n",
       "      <td>200000.000000</td>\n",
       "      <td>2010.000000</td>\n",
       "      <td>498888.000000</td>\n",
       "      <td>20.000000</td>\n",
       "    </tr>\n",
       "  </tbody>\n",
       "</table>\n",
       "</div>"
      ],
      "text/plain": [
       "               price          year       odometer           age\n",
       "count   88699.000000  88699.000000   88699.000000  88699.000000\n",
       "mean     7677.321458   2006.499791  140351.506680     14.500209\n",
       "std      6450.115524      2.580309   56301.279845      2.580309\n",
       "min       101.000000   2001.000000       0.000000     11.000000\n",
       "25%      3875.000000   2005.000000  106000.000000     12.000000\n",
       "50%      5950.000000   2007.000000  140000.000000     14.000000\n",
       "75%      9200.000000   2009.000000  174910.000000     16.000000\n",
       "max    200000.000000   2010.000000  498888.000000     20.000000"
      ]
     },
     "execution_count": 21,
     "metadata": {},
     "output_type": "execute_result"
    }
   ],
   "source": [
    "cars[(cars.year>2000) & (cars.year<2011)].describe()"
   ]
  },
  {
   "cell_type": "markdown",
   "metadata": {},
   "source": [
    "Here we see our IQR for cars from 2001 to 2010 is between `$3500` and `$9000`. "
   ]
  },
  {
   "cell_type": "code",
   "execution_count": 22,
   "metadata": {},
   "outputs": [
    {
     "data": {
      "text/html": [
       "<div>\n",
       "<style scoped>\n",
       "    .dataframe tbody tr th:only-of-type {\n",
       "        vertical-align: middle;\n",
       "    }\n",
       "\n",
       "    .dataframe tbody tr th {\n",
       "        vertical-align: top;\n",
       "    }\n",
       "\n",
       "    .dataframe thead th {\n",
       "        text-align: right;\n",
       "    }\n",
       "</style>\n",
       "<table border=\"1\" class=\"dataframe\">\n",
       "  <thead>\n",
       "    <tr style=\"text-align: right;\">\n",
       "      <th></th>\n",
       "      <th>price</th>\n",
       "      <th>year</th>\n",
       "      <th>odometer</th>\n",
       "      <th>age</th>\n",
       "    </tr>\n",
       "  </thead>\n",
       "  <tbody>\n",
       "    <tr>\n",
       "      <th>count</th>\n",
       "      <td>14082.000000</td>\n",
       "      <td>14082.000000</td>\n",
       "      <td>14082.000000</td>\n",
       "      <td>14082.000000</td>\n",
       "    </tr>\n",
       "    <tr>\n",
       "      <th>mean</th>\n",
       "      <td>9485.644653</td>\n",
       "      <td>1987.931544</td>\n",
       "      <td>126542.882758</td>\n",
       "      <td>33.068456</td>\n",
       "    </tr>\n",
       "    <tr>\n",
       "      <th>std</th>\n",
       "      <td>13062.890199</td>\n",
       "      <td>14.044119</td>\n",
       "      <td>78182.616981</td>\n",
       "      <td>14.044119</td>\n",
       "    </tr>\n",
       "    <tr>\n",
       "      <th>min</th>\n",
       "      <td>123.000000</td>\n",
       "      <td>1911.000000</td>\n",
       "      <td>0.000000</td>\n",
       "      <td>22.000000</td>\n",
       "    </tr>\n",
       "    <tr>\n",
       "      <th>25%</th>\n",
       "      <td>2700.000000</td>\n",
       "      <td>1984.000000</td>\n",
       "      <td>70000.000000</td>\n",
       "      <td>23.000000</td>\n",
       "    </tr>\n",
       "    <tr>\n",
       "      <th>50%</th>\n",
       "      <td>5100.000000</td>\n",
       "      <td>1994.000000</td>\n",
       "      <td>123000.000000</td>\n",
       "      <td>27.000000</td>\n",
       "    </tr>\n",
       "    <tr>\n",
       "      <th>75%</th>\n",
       "      <td>11000.000000</td>\n",
       "      <td>1998.000000</td>\n",
       "      <td>180000.000000</td>\n",
       "      <td>37.000000</td>\n",
       "    </tr>\n",
       "    <tr>\n",
       "      <th>max</th>\n",
       "      <td>389500.000000</td>\n",
       "      <td>1999.000000</td>\n",
       "      <td>493487.000000</td>\n",
       "      <td>110.000000</td>\n",
       "    </tr>\n",
       "  </tbody>\n",
       "</table>\n",
       "</div>"
      ],
      "text/plain": [
       "               price          year       odometer           age\n",
       "count   14082.000000  14082.000000   14082.000000  14082.000000\n",
       "mean     9485.644653   1987.931544  126542.882758     33.068456\n",
       "std     13062.890199     14.044119   78182.616981     14.044119\n",
       "min       123.000000   1911.000000       0.000000     22.000000\n",
       "25%      2700.000000   1984.000000   70000.000000     23.000000\n",
       "50%      5100.000000   1994.000000  123000.000000     27.000000\n",
       "75%     11000.000000   1998.000000  180000.000000     37.000000\n",
       "max    389500.000000   1999.000000  493487.000000    110.000000"
      ]
     },
     "execution_count": 22,
     "metadata": {},
     "output_type": "execute_result"
    }
   ],
   "source": [
    "cars[(cars.year>1900) & (cars.year<2000)].describe()"
   ]
  },
  {
   "cell_type": "markdown",
   "metadata": {},
   "source": [
    "Here we see our IQR for cars from 1900 to 1999 is between `$2600` and `$12500`. "
   ]
  },
  {
   "cell_type": "code",
   "execution_count": 23,
   "metadata": {},
   "outputs": [
    {
     "data": {
      "text/html": [
       "<div>\n",
       "<style scoped>\n",
       "    .dataframe tbody tr th:only-of-type {\n",
       "        vertical-align: middle;\n",
       "    }\n",
       "\n",
       "    .dataframe tbody tr th {\n",
       "        vertical-align: top;\n",
       "    }\n",
       "\n",
       "    .dataframe thead th {\n",
       "        text-align: right;\n",
       "    }\n",
       "</style>\n",
       "<table border=\"1\" class=\"dataframe\">\n",
       "  <thead>\n",
       "    <tr style=\"text-align: right;\">\n",
       "      <th></th>\n",
       "      <th>price</th>\n",
       "      <th>year</th>\n",
       "      <th>odometer</th>\n",
       "      <th>age</th>\n",
       "    </tr>\n",
       "  </thead>\n",
       "  <tbody>\n",
       "    <tr>\n",
       "      <th>count</th>\n",
       "      <td>353.000000</td>\n",
       "      <td>353.00000</td>\n",
       "      <td>353.000000</td>\n",
       "      <td>353.00000</td>\n",
       "    </tr>\n",
       "    <tr>\n",
       "      <th>mean</th>\n",
       "      <td>24624.407932</td>\n",
       "      <td>1937.76204</td>\n",
       "      <td>29704.903683</td>\n",
       "      <td>83.23796</td>\n",
       "    </tr>\n",
       "    <tr>\n",
       "      <th>std</th>\n",
       "      <td>16924.236798</td>\n",
       "      <td>7.87004</td>\n",
       "      <td>38493.484202</td>\n",
       "      <td>7.87004</td>\n",
       "    </tr>\n",
       "    <tr>\n",
       "      <th>min</th>\n",
       "      <td>700.000000</td>\n",
       "      <td>1911.00000</td>\n",
       "      <td>0.000000</td>\n",
       "      <td>72.00000</td>\n",
       "    </tr>\n",
       "    <tr>\n",
       "      <th>25%</th>\n",
       "      <td>12500.000000</td>\n",
       "      <td>1931.00000</td>\n",
       "      <td>800.000000</td>\n",
       "      <td>75.00000</td>\n",
       "    </tr>\n",
       "    <tr>\n",
       "      <th>50%</th>\n",
       "      <td>22000.000000</td>\n",
       "      <td>1939.00000</td>\n",
       "      <td>9000.000000</td>\n",
       "      <td>82.00000</td>\n",
       "    </tr>\n",
       "    <tr>\n",
       "      <th>75%</th>\n",
       "      <td>33950.000000</td>\n",
       "      <td>1946.00000</td>\n",
       "      <td>50000.000000</td>\n",
       "      <td>90.00000</td>\n",
       "    </tr>\n",
       "    <tr>\n",
       "      <th>max</th>\n",
       "      <td>123456.000000</td>\n",
       "      <td>1949.00000</td>\n",
       "      <td>200000.000000</td>\n",
       "      <td>110.00000</td>\n",
       "    </tr>\n",
       "  </tbody>\n",
       "</table>\n",
       "</div>"
      ],
      "text/plain": [
       "               price        year       odometer        age\n",
       "count     353.000000   353.00000     353.000000  353.00000\n",
       "mean    24624.407932  1937.76204   29704.903683   83.23796\n",
       "std     16924.236798     7.87004   38493.484202    7.87004\n",
       "min       700.000000  1911.00000       0.000000   72.00000\n",
       "25%     12500.000000  1931.00000     800.000000   75.00000\n",
       "50%     22000.000000  1939.00000    9000.000000   82.00000\n",
       "75%     33950.000000  1946.00000   50000.000000   90.00000\n",
       "max    123456.000000  1949.00000  200000.000000  110.00000"
      ]
     },
     "execution_count": 23,
     "metadata": {},
     "output_type": "execute_result"
    }
   ],
   "source": [
    "cars[(cars.year>=1910) & (cars.year<=1949)].describe()"
   ]
  },
  {
   "cell_type": "markdown",
   "metadata": {},
   "source": [
    "Interestinlgy, we can see how the IQR for cars from 1910 to 1949 is `$8500` to `$29500`. This is because most of this cars are classics, so people tend to restore them.\n",
    "\n",
    "So, for our threshold, let's iterate over every year and plot the 25% quantile:"
   ]
  },
  {
   "cell_type": "code",
   "execution_count": 24,
   "metadata": {},
   "outputs": [
    {
     "data": {
      "image/png": "[encoded data removed]",
      "text/plain": [
       "<Figure size 432x288 with 1 Axes>"
      ]
     },
     "metadata": {},
     "output_type": "display_data"
    }
   ],
   "source": [
    "price_quantile={}\n",
    "for year in np.sort(cars.year.unique()):\n",
    "    price_quantile[year] = cars[cars.year == year].price.quantile(q=0.25)\n",
    "plt.plot(pd.Series(price_quantile));"
   ]
  },
  {
   "cell_type": "markdown",
   "metadata": {},
   "source": [
    "We can see how the quantile grahp becomes more uniform around 1980, starts to drop consistenly until around 1995 where takes the form of a growing exponential curve.\n",
    "\n",
    "That being said, I think using this curve as our price threshold to eliminate false prices is going to yield the best results. Let's implement it:"
   ]
  },
  {
   "cell_type": "code",
   "execution_count": 25,
   "metadata": {},
   "outputs": [],
   "source": [
    "df = pd.DataFrame()\n",
    "for year in np.sort(cars.year.unique()):\n",
    "    price = int(cars[cars.year == year].price.quantile(q=0.25))\n",
    "    df = df.append(cars[(cars.year== year)&(cars.price>= price)])"
   ]
  },
  {
   "cell_type": "code",
   "execution_count": 26,
   "metadata": {},
   "outputs": [],
   "source": [
    "df.reset_index(drop=True, inplace=True)\n",
    "cars = df.copy()"
   ]
  },
  {
   "cell_type": "code",
   "execution_count": 27,
   "metadata": {},
   "outputs": [
    {
     "data": {
      "image/png": "[encoded data removed]",
      "text/plain": [
       "<Figure size 1440x720 with 1 Axes>"
      ]
     },
     "metadata": {},
     "output_type": "display_data"
    }
   ],
   "source": [
    "plt.figure(figsize=(20,10))\n",
    "sns.barplot(x=cars.year, y=cars.price, data=cars)\n",
    "plt.xticks(rotation=90)\n",
    "plt.show()"
   ]
  },
  {
   "cell_type": "markdown",
   "metadata": {},
   "source": [
    "Right around 1990, cars start to reappreciate. Let's look at the relation between age and mileage:"
   ]
  },
  {
   "cell_type": "code",
   "execution_count": 28,
   "metadata": {},
   "outputs": [
    {
     "data": {
      "image/png": "[encoded data removed]",
      "text/plain": [
       "<Figure size 1440x720 with 1 Axes>"
      ]
     },
     "metadata": {},
     "output_type": "display_data"
    }
   ],
   "source": [
    "plt.figure(figsize=(20,10))\n",
    "sns.barplot(x=cars.year, y=cars.odometer, data=cars)\n",
    "plt.xticks(rotation=90)\n",
    "plt.show()"
   ]
  },
  {
   "cell_type": "markdown",
   "metadata": {},
   "source": [
    "Let's overlap them:"
   ]
  },
  {
   "cell_type": "code",
   "execution_count": 29,
   "metadata": {},
   "outputs": [
    {
     "data": {
      "image/png": "[encoded data removed]",
      "text/plain": [
       "<Figure size 1440x720 with 1 Axes>"
      ]
     },
     "metadata": {},
     "output_type": "display_data"
    }
   ],
   "source": [
    "price_year = {}\n",
    "odometer_year = {}\n",
    "for i in range(1910, 2022):\n",
    "    price_year[i] = cars[cars.year== i].price.mean()\n",
    "    odometer_year[i] = cars[cars.year== i].odometer.mean()\n",
    "    \n",
    "plt.figure(figsize=(20,10))    \n",
    "plt.plot(pd.DataFrame(pd.Series(price_year)), 'r', label='Price')\n",
    "plt.plot(pd.DataFrame(pd.Series(odometer_year)), 'b', label = 'Miles')\n",
    "\n",
    "plt.title('Average mileage/price per year')\n",
    "plt.legend()\n",
    "plt.gca().invert_xaxis()\n",
    "plt.show()"
   ]
  },
  {
   "cell_type": "markdown",
   "metadata": {},
   "source": [
    "We can see where the mileage starts to reduce right around 1995, and stays below 100K miles before 1980. This is reasonable because, most likely, any car that was driven more than 100k miles has either been restored, has a newer engine and transmission, or is sitting in a junkyard.\n",
    "\n",
    "We can also see how both graph are negatively correlated, and they both follow the same trend."
   ]
  },
  {
   "cell_type": "markdown",
   "metadata": {},
   "source": [
    "We will have some outliars at the top end, but there are some expensive cars, however, those cars are collectables and are rarely driven, therefore, the mileage should be extremily low. Let's check:|"
   ]
  },
  {
   "cell_type": "code",
   "execution_count": 30,
   "metadata": {},
   "outputs": [
    {
     "data": {
      "image/png": "[encoded data removed]",
      "text/plain": [
       "<Figure size 432x288 with 1 Axes>"
      ]
     },
     "metadata": {},
     "output_type": "display_data"
    }
   ],
   "source": [
    "sns.boxplot(y=cars.price)\n",
    "plt.show()"
   ]
  },
  {
   "cell_type": "code",
   "execution_count": 31,
   "metadata": {},
   "outputs": [
    {
     "data": {
      "text/html": [
       "<div>\n",
       "<style scoped>\n",
       "    .dataframe tbody tr th:only-of-type {\n",
       "        vertical-align: middle;\n",
       "    }\n",
       "\n",
       "    .dataframe tbody tr th {\n",
       "        vertical-align: top;\n",
       "    }\n",
       "\n",
       "    .dataframe thead th {\n",
       "        text-align: right;\n",
       "    }\n",
       "</style>\n",
       "<table border=\"1\" class=\"dataframe\">\n",
       "  <thead>\n",
       "    <tr style=\"text-align: right;\">\n",
       "      <th></th>\n",
       "      <th>price</th>\n",
       "      <th>year</th>\n",
       "      <th>odometer</th>\n",
       "      <th>age</th>\n",
       "    </tr>\n",
       "  </thead>\n",
       "  <tbody>\n",
       "    <tr>\n",
       "      <th>count</th>\n",
       "      <td>230.000000</td>\n",
       "      <td>230.000000</td>\n",
       "      <td>230.000000</td>\n",
       "      <td>230.000000</td>\n",
       "    </tr>\n",
       "    <tr>\n",
       "      <th>mean</th>\n",
       "      <td>148982.452174</td>\n",
       "      <td>2011.578261</td>\n",
       "      <td>26493.843478</td>\n",
       "      <td>9.421739</td>\n",
       "    </tr>\n",
       "    <tr>\n",
       "      <th>std</th>\n",
       "      <td>50046.329767</td>\n",
       "      <td>15.115291</td>\n",
       "      <td>40896.604120</td>\n",
       "      <td>15.115291</td>\n",
       "    </tr>\n",
       "    <tr>\n",
       "      <th>min</th>\n",
       "      <td>101951.000000</td>\n",
       "      <td>1934.000000</td>\n",
       "      <td>0.000000</td>\n",
       "      <td>0.000000</td>\n",
       "    </tr>\n",
       "    <tr>\n",
       "      <th>25%</th>\n",
       "      <td>116147.000000</td>\n",
       "      <td>2013.000000</td>\n",
       "      <td>2271.000000</td>\n",
       "      <td>2.000000</td>\n",
       "    </tr>\n",
       "    <tr>\n",
       "      <th>50%</th>\n",
       "      <td>129942.500000</td>\n",
       "      <td>2017.000000</td>\n",
       "      <td>9833.000000</td>\n",
       "      <td>4.000000</td>\n",
       "    </tr>\n",
       "    <tr>\n",
       "      <th>75%</th>\n",
       "      <td>169746.250000</td>\n",
       "      <td>2019.000000</td>\n",
       "      <td>28187.500000</td>\n",
       "      <td>8.000000</td>\n",
       "    </tr>\n",
       "    <tr>\n",
       "      <th>max</th>\n",
       "      <td>389500.000000</td>\n",
       "      <td>2021.000000</td>\n",
       "      <td>230000.000000</td>\n",
       "      <td>87.000000</td>\n",
       "    </tr>\n",
       "  </tbody>\n",
       "</table>\n",
       "</div>"
      ],
      "text/plain": [
       "               price         year       odometer         age\n",
       "count     230.000000   230.000000     230.000000  230.000000\n",
       "mean   148982.452174  2011.578261   26493.843478    9.421739\n",
       "std     50046.329767    15.115291   40896.604120   15.115291\n",
       "min    101951.000000  1934.000000       0.000000    0.000000\n",
       "25%    116147.000000  2013.000000    2271.000000    2.000000\n",
       "50%    129942.500000  2017.000000    9833.000000    4.000000\n",
       "75%    169746.250000  2019.000000   28187.500000    8.000000\n",
       "max    389500.000000  2021.000000  230000.000000   87.000000"
      ]
     },
     "execution_count": 31,
     "metadata": {},
     "output_type": "execute_result"
    }
   ],
   "source": [
    "cars[(cars.price>100000)].describe()"
   ]
  },
  {
   "cell_type": "markdown",
   "metadata": {},
   "source": [
    "There are indeed some outliers. We can see our IQR lies between 1500 and 27405 miles. Let's explore our last quartile:"
   ]
  },
  {
   "cell_type": "code",
   "execution_count": 32,
   "metadata": {},
   "outputs": [
    {
     "data": {
      "text/plain": [
       "price           59\n",
       "year            59\n",
       "manufacturer    59\n",
       "model           56\n",
       "condition       41\n",
       "cylinders       37\n",
       "fuel            57\n",
       "odometer        59\n",
       "title_status    59\n",
       "transmission    58\n",
       "drive           34\n",
       "size            22\n",
       "type            42\n",
       "paint_color     42\n",
       "description     59\n",
       "state           59\n",
       "posting_date    59\n",
       "age             59\n",
       "dtype: int64"
      ]
     },
     "execution_count": 32,
     "metadata": {},
     "output_type": "execute_result"
    }
   ],
   "source": [
    "cars[(cars.price>100000)&(cars.odometer>27405)].count()"
   ]
  },
  {
   "cell_type": "markdown",
   "metadata": {},
   "source": [
    "There are only 66 observations."
   ]
  },
  {
   "cell_type": "code",
   "execution_count": 33,
   "metadata": {},
   "outputs": [
    {
     "data": {
      "text/plain": [
       "array(['mercedes-benz', 'jaguar', 'chevrolet', 'ford', 'ferrari',\n",
       "       'porsche', 'ram', 'gmc', 'cadillac', 'dodge', 'lexus', 'toyota',\n",
       "       'bmw', 'honda', 'subaru', 'buick', 'land rover'], dtype=object)"
      ]
     },
     "execution_count": 33,
     "metadata": {},
     "output_type": "execute_result"
    }
   ],
   "source": [
    "cars[(cars.price>100000)&(cars.odometer>27405)].manufacturer.unique()"
   ]
  },
  {
   "cell_type": "markdown",
   "metadata": {},
   "source": [
    "I am fairly confident `Honda` does not have any model that goes for more that $100K..."
   ]
  },
  {
   "cell_type": "code",
   "execution_count": 34,
   "metadata": {},
   "outputs": [
    {
     "data": {
      "text/html": [
       "<div>\n",
       "<style scoped>\n",
       "    .dataframe tbody tr th:only-of-type {\n",
       "        vertical-align: middle;\n",
       "    }\n",
       "\n",
       "    .dataframe tbody tr th {\n",
       "        vertical-align: top;\n",
       "    }\n",
       "\n",
       "    .dataframe thead th {\n",
       "        text-align: right;\n",
       "    }\n",
       "</style>\n",
       "<table border=\"1\" class=\"dataframe\">\n",
       "  <thead>\n",
       "    <tr style=\"text-align: right;\">\n",
       "      <th></th>\n",
       "      <th>price</th>\n",
       "      <th>year</th>\n",
       "      <th>manufacturer</th>\n",
       "      <th>model</th>\n",
       "      <th>condition</th>\n",
       "      <th>cylinders</th>\n",
       "      <th>fuel</th>\n",
       "      <th>odometer</th>\n",
       "      <th>title_status</th>\n",
       "      <th>transmission</th>\n",
       "      <th>drive</th>\n",
       "      <th>size</th>\n",
       "      <th>type</th>\n",
       "      <th>paint_color</th>\n",
       "      <th>description</th>\n",
       "      <th>state</th>\n",
       "      <th>posting_date</th>\n",
       "      <th>age</th>\n",
       "    </tr>\n",
       "  </thead>\n",
       "  <tbody>\n",
       "    <tr>\n",
       "      <th>84506</th>\n",
       "      <td>151078</td>\n",
       "      <td>2011.0</td>\n",
       "      <td>toyota</td>\n",
       "      <td>avalon limited</td>\n",
       "      <td>excellent</td>\n",
       "      <td>6 cylinders</td>\n",
       "      <td>gas</td>\n",
       "      <td>151078.0</td>\n",
       "      <td>clean</td>\n",
       "      <td>automatic</td>\n",
       "      <td>fwd</td>\n",
       "      <td>full-size</td>\n",
       "      <td>sedan</td>\n",
       "      <td>silver</td>\n",
       "      <td>This is the Limited 2011 Toyota Avalon.  Excel...</td>\n",
       "      <td>ks</td>\n",
       "      <td>2020-11-30T11:28:17-0600</td>\n",
       "      <td>10.0</td>\n",
       "    </tr>\n",
       "    <tr>\n",
       "      <th>97550</th>\n",
       "      <td>129000</td>\n",
       "      <td>2012.0</td>\n",
       "      <td>toyota</td>\n",
       "      <td>highlander</td>\n",
       "      <td>excellent</td>\n",
       "      <td>6 cylinders</td>\n",
       "      <td>gas</td>\n",
       "      <td>139000.0</td>\n",
       "      <td>clean</td>\n",
       "      <td>automatic</td>\n",
       "      <td>4wd</td>\n",
       "      <td>NaN</td>\n",
       "      <td>NaN</td>\n",
       "      <td>silver</td>\n",
       "      <td>* PLEASE!!!! LOOK BEFORE YOU CALL &gt;&gt;&gt; * MORE P...</td>\n",
       "      <td>in</td>\n",
       "      <td>2020-11-21T09:39:02-0600</td>\n",
       "      <td>9.0</td>\n",
       "    </tr>\n",
       "  </tbody>\n",
       "</table>\n",
       "</div>"
      ],
      "text/plain": [
       "        price    year manufacturer           model  condition    cylinders  \\\n",
       "84506  151078  2011.0       toyota  avalon limited  excellent  6 cylinders   \n",
       "97550  129000  2012.0       toyota      highlander  excellent  6 cylinders   \n",
       "\n",
       "      fuel  odometer title_status transmission drive       size   type  \\\n",
       "84506  gas  151078.0        clean    automatic   fwd  full-size  sedan   \n",
       "97550  gas  139000.0        clean    automatic   4wd        NaN    NaN   \n",
       "\n",
       "      paint_color                                        description state  \\\n",
       "84506      silver  This is the Limited 2011 Toyota Avalon.  Excel...    ks   \n",
       "97550      silver  * PLEASE!!!! LOOK BEFORE YOU CALL >>> * MORE P...    in   \n",
       "\n",
       "                   posting_date   age  \n",
       "84506  2020-11-30T11:28:17-0600  10.0  \n",
       "97550  2020-11-21T09:39:02-0600   9.0  "
      ]
     },
     "execution_count": 34,
     "metadata": {},
     "output_type": "execute_result"
    }
   ],
   "source": [
    "cars[(cars.price>100000)&(cars.odometer>27405)&(cars.manufacturer == 'toyota')]"
   ]
  },
  {
   "cell_type": "markdown",
   "metadata": {},
   "source": [
    "These are definitely typos. Most likely it's the same case with `Toyota`, `Chevrolet`, `Ram`, `Ford`, etc."
   ]
  },
  {
   "cell_type": "code",
   "execution_count": 35,
   "metadata": {},
   "outputs": [
    {
     "name": "stdout",
     "output_type": "stream",
     "text": [
      "         price    year  odometer model manufacturer\n",
      "199233  129985  2018.0   29244.0   NaN   land rover\n",
      "200723  129985  2018.0   29244.0   NaN   land rover\n",
      "________________________________________________________\n",
      "         price    year  odometer          model manufacturer\n",
      "1969    110000  1977.0   66000.0      911 turbo      porsche\n",
      "1972    179888  1977.0   42000.0      930 turbo      porsche\n",
      "3256    124500  1987.0   29397.0            911      porsche\n",
      "3257    118800  1987.0   43408.0            911      porsche\n",
      "4354    129900  1991.0   68968.0  911 turbo/965      porsche\n",
      "151789  129777  2015.0   28250.0    911 turbo s      porsche\n",
      "163128  108900  2016.0   42388.0            911      porsche\n",
      "163694  108900  2016.0   42388.0            911      porsche\n",
      "199796  145000  2018.0   28000.0      911 turbo      porsche\n",
      "________________________________________________________\n",
      "         price    year  odometer                model   manufacturer\n",
      "520     139000  1959.0   35792.0  benz 190sl roadster  mercedes-benz\n",
      "3351    234567  1987.0  107000.0         benz 420 sel  mercedes-benz\n",
      "93846   169000  2012.0   80600.0           benz ml350  mercedes-benz\n",
      "157559  105000  2015.0   32000.0        sprinter 2500  mercedes-benz\n",
      "178117  119995  2017.0   31000.0              g-class  mercedes-benz\n",
      "191801  101988  2017.0   45950.0    g-class g 63 amg®  mercedes-benz\n",
      "193598  103000  2017.0   50000.0   benz sprinter 3500  mercedes-benz\n",
      "200261  130000  2018.0   39000.0        sprinter 2500  mercedes-benz\n",
      "210735  130000  2018.0   39000.0    benz sprinter van  mercedes-benz\n",
      "________________________________________________________\n",
      "        price    year  odometer              model manufacturer\n",
      "2985   113456  1986.0   39999.0             van b3          ram\n",
      "77859  200000  2010.0   95000.0                NaN          ram\n",
      "91473  219995  2011.0  106100.0  1500 big horn 4x4          ram\n",
      "________________________________________________________\n",
      "         price    year  odometer                model manufacturer\n",
      "4157    123456  1991.0  229000.0         sierra c3500          gmc\n",
      "155260  301999  2015.0   76000.0  sierra 1500 slt z71          gmc\n",
      "________________________________________________________\n",
      "         price    year  odometer             model manufacturer\n",
      "1471    123456  1971.0   84000.0           mustang         ford\n",
      "125325  123456  2013.0  155000.0          explorer         ford\n",
      "133930  179000  2014.0   44000.0          edge sel         ford\n",
      "141249  229999  2014.0  121543.0  f-350 diesel xlt         ford\n",
      "173761  345000  2016.0   59000.0             f-150         ford\n",
      "185242  155500  2017.0   61000.0            escape         ford\n",
      "200544  105000  2018.0   78000.0       transit 250         ford\n",
      "________________________________________________________\n",
      "        price    year  odometer           model manufacturer\n",
      "72339  173495  2010.0  132479.0  gx 460 4wd 4dr        lexus\n",
      "72370  173495  2010.0  132479.0  gx 460 4wd 4dr        lexus\n",
      "________________________________________________________\n",
      "      price    year  odometer  model manufacturer\n",
      "655  180000  1963.0   58900.0  etype       jaguar\n",
      "________________________________________________________\n",
      "         price    year  odometer     model manufacturer\n",
      "129650  129000  2014.0  110336.0  lacrosse        buick\n",
      "________________________________________________________\n",
      "         price    year  odometer           model manufacturer\n",
      "1062    109900  1967.0   86000.0        corvette    chevrolet\n",
      "5864    123456  1995.0  230000.0  silverado 1500    chevrolet\n",
      "49582   123456  2007.0  166461.0          impala    chevrolet\n",
      "163340  124734  2016.0  124734.0  silverado 2500    chevrolet\n",
      "________________________________________________________\n",
      "         price    year  odometer              model manufacturer\n",
      "1591    389500  1972.0   48998.0        246 gt dino      ferrari\n",
      "28487   106899  2004.0   34123.0  360 modena spyder      ferrari\n",
      "54823   124997  2008.0   29836.0    599 gtb fiorano      ferrari\n",
      "118913  125000  2013.0   34000.0                 ff      ferrari\n",
      "136001  152995  2014.0   59728.0         458 spider      ferrari\n",
      "136174  155995  2014.0   59728.0         458 spider      ferrari\n",
      "________________________________________________________\n",
      "        price    year  odometer           model manufacturer\n",
      "84506  151078  2011.0  151078.0  avalon limited       toyota\n",
      "97550  129000  2012.0  139000.0      highlander       toyota\n",
      "________________________________________________________\n",
      "         price    year  odometer  model manufacturer\n",
      "84550   126000  2011.0  126000.0  335xi          bmw\n",
      "218287  129900  2019.0   33435.0     i8          bmw\n",
      "222209  129900  2019.0   33435.0     i8          bmw\n",
      "224015  129900  2019.0   33435.0     i8          bmw\n",
      "________________________________________________________\n",
      "         price    year  odometer          model manufacturer\n",
      "98339   135000  2012.0  157000.0  pilot touring        honda\n",
      "136000  109000  2014.0  107495.0  accord exl v6        honda\n",
      "136123  105000  2014.0   60154.0   accord sport        honda\n",
      "________________________________________________________\n",
      "         price    year  odometer       model manufacturer\n",
      "39238   111111  2006.0  200000.0     caravan        dodge\n",
      "156945  384995  2015.0   44000.0  challenger        dodge\n",
      "________________________________________________________\n",
      "       price    year  odometer                   model manufacturer\n",
      "9829  123456  1999.0  114000.0  eldorado touring coupe     cadillac\n",
      "________________________________________________________\n",
      "Empty DataFrame\n",
      "Columns: [price, year, odometer, model, manufacturer]\n",
      "Index: []\n",
      "________________________________________________________\n",
      "         price    year  odometer    model manufacturer\n",
      "106337  115000  2012.0   80100.0  outback       subaru\n",
      "________________________________________________________\n"
     ]
    }
   ],
   "source": [
    "outliers = ['land rover', 'porsche', 'mercedes-benz', 'ram', 'gmc', 'ford',\n",
    "       'lexus', 'jaguar', 'buick', 'chevrolet', 'ferrari', 'toyota',\n",
    "       'bmw', 'honda', 'dodge', 'cadillac', 'jeep', 'subaru']\n",
    "for outlier in outliers:\n",
    "    print(cars.loc[(cars.price>100000)&(cars.odometer>27405)&(cars.manufacturer == outlier),['price','year','odometer','model', 'manufacturer']])\n",
    "    print('________________________________________________________')"
   ]
  },
  {
   "cell_type": "markdown",
   "metadata": {},
   "source": [
    "There are a few with a price of `123456`, `111111`, `234567`, clearly not real so we'll drop those. Most of them can be saved by dividing  by 10. The only correct ones are: `benz 190sl roadster`, all `porsche`, the `jaguar`, all `ferrari` and the `i8`:"
   ]
  },
  {
   "cell_type": "code",
   "execution_count": 36,
   "metadata": {},
   "outputs": [],
   "source": [
    "cars = cars[~((cars.price == 123456) | (cars.price == 234567) | (cars.price == 111111) | (cars.price == 12345) | (cars.price == 1234) | (cars.price == 11111) | (cars.price == 123456))]\n",
    "\n",
    "\n",
    "\n",
    "cars.loc[(cars.price>100000) &\n",
    "    (cars.odometer>27405)&((cars.manufacturer == 'honda')|\n",
    "    (cars.manufacturer=='cadillac') | (cars.manufacturer=='ford') | (cars.manufacturer=='gmc') |\n",
    "    (cars.manufacturer=='jeep') | (cars.manufacturer== 'subaru') | (cars.manufacturer=='dodge') |\n",
    "    (cars.manufacturer== 'toyota') | (cars.manufacturer=='buick') | \n",
    "    (cars.manufacturer=='lexus') | (cars.manufacturer=='ram') | ((cars.manufacturer=='bmw')&(cars.model == '335xi')) | \n",
    "    ((cars.manufacturer=='chevrolet')&(cars.model != 'covertte')) |  \n",
    "    ((cars.manufacturer=='mercedes-benz')&(cars.model != 'benz 190sl roadster')) ),'price'] = cars.loc[(cars.price>100000) &\n",
    "    (cars.odometer>27405)&((cars.manufacturer == 'honda')|\n",
    "    (cars.manufacturer=='cadillac') | (cars.manufacturer=='ford') | (cars.manufacturer=='gmc') |\n",
    "    (cars.manufacturer=='jeep') | (cars.manufacturer== 'subaru') | (cars.manufacturer=='dodge') |\n",
    "    (cars.manufacturer== 'toyota') | (cars.manufacturer=='buick') | \n",
    "    (cars.manufacturer=='lexus') | (cars.manufacturer=='ram') | ((cars.manufacturer=='bmw')&(cars.model == '335xi')) | \n",
    "    ((cars.manufacturer=='chevrolet')&(cars.model != 'covertte')) |  \n",
    "    ((cars.manufacturer=='mercedes-benz')&(cars.model != 'benz 190sl roadster')) ), 'price']/10\n",
    "\n",
    "cars = cars[~((cars.manufacturer == 'land rover')&(cars.price>100000) &(cars.odometer>27405))]"
   ]
  },
  {
   "cell_type": "code",
   "execution_count": 37,
   "metadata": {},
   "outputs": [],
   "source": [
    "cars.reset_index( drop=True, inplace=True)"
   ]
  },
  {
   "cell_type": "markdown",
   "metadata": {},
   "source": [
    "Now let's see the average price vs the average mileage vs average price in 2020 for each brand to try and answer our first question:\n",
    "\n",
    "### Which brand holds the most value vs mileage?"
   ]
  },
  {
   "cell_type": "code",
   "execution_count": 38,
   "metadata": {},
   "outputs": [],
   "source": [
    "cars_s = cars.groupby(by='manufacturer').mean().sort_values(by='price',ascending=True).index"
   ]
  },
  {
   "cell_type": "code",
   "execution_count": 39,
   "metadata": {},
   "outputs": [
    {
     "data": {
      "image/png": "[encoded data removed]",
      "text/plain": [
       "<Figure size 1440x720 with 1 Axes>"
      ]
     },
     "metadata": {},
     "output_type": "display_data"
    }
   ],
   "source": [
    "plt.figure(figsize=(20,10))\n",
    "sns.barplot(x=\"manufacturer\", y=\"price\", data=cars,order=cars_s, color='red', label='Price',alpha = 0.5)\n",
    "sns.barplot(x=\"manufacturer\", y=\"odometer\", data=cars,order=cars_s, color='blue', label='Mileage', alpha = 0.5)\n",
    "sns.barplot(x=\"manufacturer\", y=\"price\", data=cars[cars.year==2020],order=cars_s, color='yellow', label='Price when new', alpha = 0.5)\n",
    "plt.legend()\n",
    "plt.title(\"Price/Mileage Comparison\")\n",
    "plt.xticks(rotation=90)\n",
    "plt.show()"
   ]
  },
  {
   "cell_type": "markdown",
   "metadata": {},
   "source": [
    "We are missing the yellow bar for some of the manufacturers, however, these manufacturers are not that common and won't really affect our analysis. Here we are looking and the highest blue bar with the red bar as close as possible to the yellow bar. This might be hard to do visually, so let's use numbers:\n",
    "\n",
    "We can see how much value, on average, each brand loses per mile driven."
   ]
  },
  {
   "cell_type": "code",
   "execution_count": 40,
   "metadata": {},
   "outputs": [
    {
     "data": {
      "text/plain": [
       "manufacturer\n",
       "mitsubishi         0.129826\n",
       "ram                0.151797\n",
       "nissan             0.181929\n",
       "subaru             0.184229\n",
       "mazda              0.203076\n",
       "honda              0.203933\n",
       "hyundai            0.205973\n",
       "jeep               0.233301\n",
       "ford               0.233449\n",
       "toyota             0.237850\n",
       "acura              0.242919\n",
       "volkswagen         0.254250\n",
       "mini               0.263724\n",
       "buick              0.265782\n",
       "chevrolet          0.270059\n",
       "infiniti           0.278013\n",
       "volvo              0.284925\n",
       "gmc                0.285313\n",
       "land rover         0.291034\n",
       "dodge              0.291577\n",
       "cadillac           0.302683\n",
       "kia                0.327932\n",
       "lexus              0.338333\n",
       "chrysler           0.349721\n",
       "bmw                0.358155\n",
       "jaguar             0.404769\n",
       "tesla              0.425080\n",
       "lincoln            0.428106\n",
       "mercedes-benz      0.435155\n",
       "fiat               0.493482\n",
       "audi               0.551040\n",
       "porsche            1.639095\n",
       "aston-martin       3.893381\n",
       "alfa-romeo              NaN\n",
       "datsun                  NaN\n",
       "ferrari                 NaN\n",
       "harley-davidson         NaN\n",
       "hennessey               NaN\n",
       "mercury                 NaN\n",
       "morgan                  NaN\n",
       "pontiac                 NaN\n",
       "saturn                  NaN\n",
       "dtype: float64"
      ]
     },
     "execution_count": 40,
     "metadata": {},
     "output_type": "execute_result"
    }
   ],
   "source": [
    "((cars[cars.year==2020].groupby(by='manufacturer').price.mean()-cars.groupby(by='manufacturer').price.mean())/cars.groupby(by='manufacturer').odometer.mean()).sort_values()"
   ]
  },
  {
   "cell_type": "markdown",
   "metadata": {},
   "source": [
    "This is very interesting. `Mitsubishi` holds the most value on average, followed by `Ram` (that's a surprise). You definitely do not want to buy a `Porsche` or `Aston Martin` if you mind losing about `$1.6` and `$3.8` respectively."
   ]
  },
  {
   "cell_type": "markdown",
   "metadata": {},
   "source": [
    "### Which brand depreciates the most in the first 5 years?"
   ]
  },
  {
   "cell_type": "code",
   "execution_count": 41,
   "metadata": {},
   "outputs": [],
   "source": [
    "price_year = {}\n",
    "df = pd.DataFrame()\n",
    "for i in cars.manufacturer.unique():\n",
    "    for x in range(6):\n",
    "        price_year[2020-x]= cars[(cars.manufacturer == i)&(cars.year ==2020-x)].price.mean()\n",
    "    df[i]= pd.Series(price_year, index=[2020,2019,2018,2017,2016,2015])\n",
    "\n"
   ]
  },
  {
   "cell_type": "code",
   "execution_count": 49,
   "metadata": {},
   "outputs": [],
   "source": [
    "df = df.T"
   ]
  },
  {
   "cell_type": "code",
   "execution_count": 51,
   "metadata": {},
   "outputs": [],
   "source": [
    "df['depreciation'] = 100-100*df[2015]/df[2020]\n",
    "df=df.T"
   ]
  },
  {
   "cell_type": "code",
   "execution_count": 52,
   "metadata": {},
   "outputs": [
    {
     "data": {
      "image/png": "[encoded data removed]",
      "text/plain": [
       "<Figure size 1440x720 with 1 Axes>"
      ]
     },
     "metadata": {},
     "output_type": "display_data"
    }
   ],
   "source": [
    "df.loc['depreciation',:].dropna().sort_values().plot(kind='bar',figsize=(20,10))\n",
    "plt.title(\"Depreciation Comparison (%)\")\n",
    "plt.show()"
   ]
  },
  {
   "cell_type": "markdown",
   "metadata": {},
   "source": [
    "A few interesting things to note:\n",
    " - `Kia` is the fourth brand that depreciates the most, right after high tier brands such as `Prosche` and `Audi`.\n",
    " - `Teslas` seems to depreciate the least in terms of years, but keep in mind that most teslas in this dataset have less than 50,000 miles.\n",
    " - `Mitsubishi` and `Ram` are still the two best brands in terms of holding value.\n",
    " - `Honda` loses over 50% of it's value, even though it is amongst the best brands in terms of value lost per miles... Maybe people don't like older Hondas? or maybe the rate at which they lose value is higher the first 5 years, after which they hit a plateau and hold their value?\n",
    " - Same applies for `Subaru`, `Hyundai`, and `Toyota` but to at around 10% less. "
   ]
  },
  {
   "cell_type": "markdown",
   "metadata": {},
   "source": [
    "### Price difference per state"
   ]
  },
  {
   "cell_type": "code",
   "execution_count": 54,
   "metadata": {},
   "outputs": [
    {
     "data": {
      "image/png": "[encoded data removed]",
      "text/plain": [
       "<Figure size 1440x720 with 1 Axes>"
      ]
     },
     "metadata": {},
     "output_type": "display_data"
    }
   ],
   "source": [
    "cars.groupby('state').price.mean().sort_values().plot(kind='bar',figsize=(20,10))\n",
    "plt.title(\"AVG Price per State Comparison\")\n",
    "plt.ylabel('price')\n",
    "plt.show()"
   ]
  },
  {
   "cell_type": "markdown",
   "metadata": {},
   "source": [
    "Virgina and Iowa seem to be the cheapest states to buy cars in."
   ]
  },
  {
   "cell_type": "markdown",
   "metadata": {},
   "source": [
    "### Which car brands should you go for to get the best value?\n",
    "\n",
    "From our analysis we can conclude that, on average, Mitsubishi is the winning brand for overall best value, with an average depreciation of `$0.129826` per mile driven and losing only 21% of it's value in the first 5 years. This is probably due to the fact that Mitsubishi is one of the cheaper brands and their new cars start around `$20K`, so there is not a lot of depreciation that happens in the first 5 years, compared to the original price.\n",
    "\n",
    "Now, keep in mind that a deeper analysis of the models is necesary to have a better representation of each brand, but given the state of the dataset, that analysis is out of the scope of this analysis."
   ]
  },
  {
   "cell_type": "code",
   "execution_count": null,
   "metadata": {},
   "outputs": [],
   "source": []
  },
  {
   "cell_type": "code",
   "execution_count": null,
   "metadata": {},
   "outputs": [],
   "source": []
  },
  {
   "cell_type": "code",
   "execution_count": null,
   "metadata": {},
   "outputs": [],
   "source": []
  },
  {
   "cell_type": "code",
   "execution_count": null,
   "metadata": {},
   "outputs": [],
   "source": []
  },
  {
   "cell_type": "code",
   "execution_count": null,
   "metadata": {},
   "outputs": [],
   "source": []
  },
  {
   "cell_type": "code",
   "execution_count": null,
   "metadata": {},
   "outputs": [],
   "source": []
  },
  {
   "cell_type": "code",
   "execution_count": null,
   "metadata": {},
   "outputs": [],
   "source": []
  },
  {
   "cell_type": "markdown",
   "metadata": {},
   "source": [
    "### Which model is holds the most value regardless of mileage and age? (This is for ML model)\n",
    "\n",
    "First let's start by looking at what we are working with. Usually the 'model' section of the description is left for the seller to type in the model rather than giving them a drop-down selection menu. This makes it easier for typos and sellers adding more than it's necessary."
   ]
  },
  {
   "cell_type": "code",
   "execution_count": 53,
   "metadata": {},
   "outputs": [
    {
     "data": {
      "text/plain": [
       "18235"
      ]
     },
     "execution_count": 53,
     "metadata": {},
     "output_type": "execute_result"
    }
   ],
   "source": [
    "len(cars.model.unique())"
   ]
  },
  {
   "cell_type": "markdown",
   "metadata": {},
   "source": [
    "18504 unique values!!! Let's see how they are distributed:"
   ]
  },
  {
   "cell_type": "code",
   "execution_count": null,
   "metadata": {
    "scrolled": true
   },
   "outputs": [],
   "source": [
    "cars.loc[:,'model'].value_counts().head(500).index"
   ]
  },
  {
   "cell_type": "markdown",
   "metadata": {},
   "source": [
    "Right off the bat we can see we have `f150` and `f-150`, `silverado 1500` and `silverado`, `sierra` and `sierra 1500`, etc."
   ]
  },
  {
   "cell_type": "code",
   "execution_count": null,
   "metadata": {},
   "outputs": [],
   "source": [
    "for model in cars.model.unique():\n",
    "    \n",
    "    print(re.search(model, list(cars.model.unique())))"
   ]
  },
  {
   "cell_type": "code",
   "execution_count": null,
   "metadata": {},
   "outputs": [],
   "source": [
    "from fuzzywuzzy import fuzz\n",
    "from fuzzywuzzy import process\n",
    "l = []\n",
    "\n",
    "for model in cars.model.dropna().unique():\n",
    "    l.append(model)\n",
    "process.extract('silverado', l, scorer=fuzz.WRatio)\n"
   ]
  },
  {
   "cell_type": "code",
   "execution_count": null,
   "metadata": {},
   "outputs": [],
   "source": [
    "fuzz.token_sort_ratio(cars.model.dropna().unique(), 'silverado')"
   ]
  },
  {
   "cell_type": "code",
   "execution_count": null,
   "metadata": {},
   "outputs": [],
   "source": [
    "def get_ratio(row):\n",
    "    name = row['model']\n",
    "    return fuzz.partial_token_sort_ratio(name, 'silverado')\n",
    "\n",
    "cars[cars.apply(get_ratio, axis=1) > 77].sample(30, random_state=42)"
   ]
  },
  {
   "cell_type": "code",
   "execution_count": null,
   "metadata": {},
   "outputs": [],
   "source": []
  }
 ],
 "metadata": {
  "kernelspec": {
   "display_name": "Python Conda",
   "language": "python",
   "name": "conda"
  },
  "language_info": {
   "codemirror_mode": {
    "name": "ipython",
    "version": 3
   },
   "file_extension": ".py",
   "mimetype": "text/x-python",
   "name": "python",
   "nbconvert_exporter": "python",
   "pygments_lexer": "ipython3",
   "version": "3.6.12"
  }
 },
 "nbformat": 4,
 "nbformat_minor": 4
}
